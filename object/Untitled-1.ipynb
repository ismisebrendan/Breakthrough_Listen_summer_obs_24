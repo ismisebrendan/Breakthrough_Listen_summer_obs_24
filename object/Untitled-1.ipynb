{
 "cells": [
  {
   "cell_type": "code",
   "execution_count": 42,
   "metadata": {},
   "outputs": [
    {
     "name": "stdout",
     "output_type": "stream",
     "text": [
      "The autoreload extension is already loaded. To reload it, use:\n",
      "  %reload_ext autoreload\n"
     ]
    }
   ],
   "source": [
    "from astropy.coordinates import EarthLocation, Angle, SkyCoord\n",
    "from sched_object import schedule\n",
    "\n",
    "%load_ext autoreload\n",
    "%autoreload 2"
   ]
  },
  {
   "cell_type": "code",
   "execution_count": 43,
   "metadata": {},
   "outputs": [],
   "source": [
    "a = schedule(55, 2, 0.5, 4/3)"
   ]
  },
  {
   "cell_type": "code",
   "execution_count": 44,
   "metadata": {},
   "outputs": [],
   "source": [
    "a.set_times('Tuesday', '20:00', 8, buffer=False)"
   ]
  },
  {
   "cell_type": "code",
   "execution_count": 45,
   "metadata": {},
   "outputs": [
    {
     "name": "stdout",
     "output_type": "stream",
     "text": [
      "Observing from 55.00000000000001 deg, 2.0 deg\n",
      "\n",
      "Starting observation at 2024-07-23 20:00:00.000\n",
      "Ending observation at 2024-07-24 04:00:00.000\n",
      "\n",
      "Observing calibration pulsar for 0.5 hours\n",
      "Observing targets for 1.3333333333333333 hours\n"
     ]
    }
   ],
   "source": [
    "a.print_info()"
   ]
  },
  {
   "cell_type": "code",
   "execution_count": 46,
   "metadata": {},
   "outputs": [
    {
     "name": "stderr",
     "output_type": "stream",
     "text": [
      "UserWarning: Units from inserted quantities will be ignored.\n"
     ]
    }
   ],
   "source": [
    "a.find_targets()"
   ]
  },
  {
   "cell_type": "code",
   "execution_count": 47,
   "metadata": {},
   "outputs": [],
   "source": [
    "a.make_iLiSA()"
   ]
  },
  {
   "cell_type": "code",
   "execution_count": 48,
   "metadata": {},
   "outputs": [
    {
     "data": {
      "text/html": [
       "<div><i>Table length=7</i>\n",
       "<table id=\"table2276389635088\" class=\"table-striped table-bordered table-condensed\">\n",
       "<thead><tr><th>Name</th><th>Time</th><th>RA</th><th>DEC</th><th>freqrng</th><th>dur</th></tr></thead>\n",
       "<thead><tr><th>str11</th><th>str5</th><th>float64</th><th>float64</th><th>str11</th><th>str5</th></tr></thead>\n",
       "<tr><td>J1706+59</td><td>20:00</td><td>4.481132854495441</td><td>1.0326531407633117</td><td>110e6:190e6</td><td>30m</td></tr>\n",
       "<tr><td>TOI-2081</td><td>20:31</td><td>4.612944716803303</td><td>0.925470724905535</td><td>110e6:190e6</td><td>80m</td></tr>\n",
       "<tr><td>WD 1856+534</td><td>21:52</td><td>4.963989973032124</td><td>0.9339086553099833</td><td>110e6:190e6</td><td>80m</td></tr>\n",
       "<tr><td>HD 235088</td><td>23:13</td><td>5.246729445950912</td><td>0.9316121057016485</td><td>110e6:190e6</td><td>80m</td></tr>\n",
       "<tr><td>TOI-1431</td><td>00:34</td><td>5.518795535852711</td><td>0.9701940103163726</td><td>110e6:190e6</td><td>80m</td></tr>\n",
       "<tr><td>TOI-1386</td><td>01:55</td><td>5.838197957034913</td><td>0.9480461887702802</td><td>110e6:190e6</td><td>80m</td></tr>\n",
       "<tr><td>TOI-1470</td><td>03:16</td><td>0.1760887657998675</td><td>1.0683751459568358</td><td>110e6:190e6</td><td>44.0m</td></tr>\n",
       "</table></div>"
      ],
      "text/plain": [
       "<Table length=7>\n",
       "    Name     Time         RA                DEC           freqrng    dur \n",
       "   str11     str5      float64            float64          str11     str5\n",
       "----------- ----- ------------------ ------------------ ----------- -----\n",
       "   J1706+59 20:00  4.481132854495441 1.0326531407633117 110e6:190e6   30m\n",
       "   TOI-2081 20:31  4.612944716803303  0.925470724905535 110e6:190e6   80m\n",
       "WD 1856+534 21:52  4.963989973032124 0.9339086553099833 110e6:190e6   80m\n",
       "  HD 235088 23:13  5.246729445950912 0.9316121057016485 110e6:190e6   80m\n",
       "   TOI-1431 00:34  5.518795535852711 0.9701940103163726 110e6:190e6   80m\n",
       "   TOI-1386 01:55  5.838197957034913 0.9480461887702802 110e6:190e6   80m\n",
       "   TOI-1470 03:16 0.1760887657998675 1.0683751459568358 110e6:190e6 44.0m"
      ]
     },
     "execution_count": 48,
     "metadata": {},
     "output_type": "execute_result"
    }
   ],
   "source": [
    "a.sched_iLiSA"
   ]
  },
  {
   "cell_type": "code",
   "execution_count": 49,
   "metadata": {},
   "outputs": [],
   "source": [
    "a.make_reata()"
   ]
  },
  {
   "cell_type": "code",
   "execution_count": 50,
   "metadata": {},
   "outputs": [
    {
     "data": {
      "text/html": [
       "<div><i>Table length=7</i>\n",
       "<table id=\"table2276389868208\" class=\"table-striped table-bordered table-condensed\">\n",
       "<thead><tr><th>start</th><th>-</th><th>stop</th><th>:</th><th>name</th><th>coords</th></tr></thead>\n",
       "<thead><tr><th>str5</th><th>str1</th><th>str5</th><th>str1</th><th>str11</th><th>str49</th></tr></thead>\n",
       "<tr><td>20:00</td><td>-</td><td>20:30</td><td>:</td><td>J1706+59</td><td>[4.481132854495441, 1.0326531407633117, &apos;J2000&apos;]</td></tr>\n",
       "<tr><td>20:31</td><td>-</td><td>21:51</td><td>:</td><td>TOI-2081</td><td>[4.612944716803303, 0.925470724905535, &apos;J2000&apos;]</td></tr>\n",
       "<tr><td>21:52</td><td>-</td><td>23:12</td><td>:</td><td>WD 1856+534</td><td>[4.963989973032124, 0.9339086553099833, &apos;J2000&apos;]</td></tr>\n",
       "<tr><td>23:13</td><td>-</td><td>00:33</td><td>:</td><td>HD 235088</td><td>[5.246729445950912, 0.9316121057016485, &apos;J2000&apos;]</td></tr>\n",
       "<tr><td>00:34</td><td>-</td><td>01:54</td><td>:</td><td>TOI-1431</td><td>[5.518795535852711, 0.9701940103163726, &apos;J2000&apos;]</td></tr>\n",
       "<tr><td>01:55</td><td>-</td><td>03:15</td><td>:</td><td>TOI-1386</td><td>[5.838197957034913, 0.9480461887702802, &apos;J2000&apos;]</td></tr>\n",
       "<tr><td>03:16</td><td>-</td><td>04:00</td><td>:</td><td>TOI-1470</td><td>[0.1760887657998675, 1.0683751459568358, &apos;J2000&apos;]</td></tr>\n",
       "</table></div>"
      ],
      "text/plain": [
       "<Table length=7>\n",
       "start  -   ...     name                          coords                     \n",
       " str5 str1 ...    str11                          str49                      \n",
       "----- ---- ... ----------- -------------------------------------------------\n",
       "20:00    - ...    J1706+59  [4.481132854495441, 1.0326531407633117, 'J2000']\n",
       "20:31    - ...    TOI-2081   [4.612944716803303, 0.925470724905535, 'J2000']\n",
       "21:52    - ... WD 1856+534  [4.963989973032124, 0.9339086553099833, 'J2000']\n",
       "23:13    - ...   HD 235088  [5.246729445950912, 0.9316121057016485, 'J2000']\n",
       "00:34    - ...    TOI-1431  [5.518795535852711, 0.9701940103163726, 'J2000']\n",
       "01:55    - ...    TOI-1386  [5.838197957034913, 0.9480461887702802, 'J2000']\n",
       "03:16    - ...    TOI-1470 [0.1760887657998675, 1.0683751459568358, 'J2000']"
      ]
     },
     "execution_count": 50,
     "metadata": {},
     "output_type": "execute_result"
    }
   ],
   "source": [
    "a.sched_realta"
   ]
  },
  {
   "cell_type": "code",
   "execution_count": null,
   "metadata": {},
   "outputs": [],
   "source": []
  }
 ],
 "metadata": {
  "kernelspec": {
   "display_name": "Python 3",
   "language": "python",
   "name": "python3"
  },
  "language_info": {
   "codemirror_mode": {
    "name": "ipython",
    "version": 3
   },
   "file_extension": ".py",
   "mimetype": "text/x-python",
   "name": "python",
   "nbconvert_exporter": "python",
   "pygments_lexer": "ipython3",
   "version": "3.12.4"
  }
 },
 "nbformat": 4,
 "nbformat_minor": 2
}
