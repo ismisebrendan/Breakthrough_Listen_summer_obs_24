{
 "cells": [
  {
   "cell_type": "code",
   "execution_count": 1,
   "metadata": {},
   "outputs": [],
   "source": [
    "from astroquery.ipac.nexsci.nasa_exoplanet_archive import NasaExoplanetArchive\n",
    "import astropy.units as u\n",
    "from astropy.coordinates import EarthLocation, SkyCoord\n",
    "from astropy.time import Time"
   ]
  },
  {
   "cell_type": "code",
   "execution_count": 2,
   "metadata": {},
   "outputs": [],
   "source": [
    "time = '2024-07-02 20:00:00'\n",
    "\n",
    "birr_loc = EarthLocation(lat=53.095*u.deg, lon=-7.922*u.deg)\n",
    "LST = Time(time, scale='utc', location=birr_loc).sidereal_time('mean')\n"
   ]
  },
  {
   "cell_type": "code",
   "execution_count": 13,
   "metadata": {},
   "outputs": [],
   "source": [
    "potential_targets = NasaExoplanetArchive.query_region(table='pscomppars', coordinates=SkyCoord(ra=LST, dec=50*u.deg), radius=20*u.deg)"
   ]
  },
  {
   "cell_type": "code",
   "execution_count": 19,
   "metadata": {},
   "outputs": [
    {
     "data": {
      "text/latex": [
       "$14^{\\mathrm{h}}13^{\\mathrm{m}}42.10393019^{\\mathrm{s}}$"
      ],
      "text/plain": [
       "<Longitude 14.2283622 hourangle>"
      ]
     },
     "execution_count": 19,
     "metadata": {},
     "output_type": "execute_result"
    }
   ],
   "source": [
    "LST"
   ]
  },
  {
   "cell_type": "code",
   "execution_count": 14,
   "metadata": {},
   "outputs": [],
   "source": [
    "ind = potential_targets['disc_facility'] == 'Transiting Exoplanet Survey Satellite (TESS)'"
   ]
  },
  {
   "cell_type": "code",
   "execution_count": 15,
   "metadata": {},
   "outputs": [],
   "source": [
    "potential_targets = potential_targets[ind]"
   ]
  },
  {
   "cell_type": "code",
   "execution_count": 17,
   "metadata": {},
   "outputs": [],
   "source": [
    "potential_targets.keep_columns(('hostname', 'disc_facility', 'ra', 'dec', 'sy_dist'))"
   ]
  },
  {
   "cell_type": "code",
   "execution_count": 18,
   "metadata": {},
   "outputs": [
    {
     "data": {
      "text/html": [
       "<div><i>QTable masked=True length=24</i>\n",
       "<table id=\"table2677091088384\" class=\"table-striped table-bordered table-condensed\">\n",
       "<thead><tr><th>hostname</th><th>disc_facility</th><th>ra</th><th>dec</th><th>sy_dist</th></tr></thead>\n",
       "<thead><tr><th></th><th></th><th>deg</th><th>deg</th><th>pc</th></tr></thead>\n",
       "<thead><tr><th>str10</th><th>str60</th><th>float64</th><th>float64</th><th>float64</th></tr></thead>\n",
       "<tr><td>TOI-1411</td><td>Transiting Exoplanet Survey Satellite (TESS)</td><td>232.946047</td><td>47.0555507</td><td>32.4778</td></tr>\n",
       "<tr><td>TOI-2048</td><td>Transiting Exoplanet Survey Satellite (TESS)</td><td>237.9241066</td><td>52.3063083</td><td>116.567</td></tr>\n",
       "<tr><td>TOI-1266</td><td>Transiting Exoplanet Survey Satellite (TESS)</td><td>197.9965833</td><td>65.8336973</td><td>36.0118</td></tr>\n",
       "<tr><td>TOI-1266</td><td>Transiting Exoplanet Survey Satellite (TESS)</td><td>197.9965833</td><td>65.8336973</td><td>36.0118</td></tr>\n",
       "<tr><td>TOI-1860</td><td>Transiting Exoplanet Survey Satellite (TESS)</td><td>226.4567308</td><td>64.0476821</td><td>45.864</td></tr>\n",
       "<tr><td>TOI-5238</td><td>Transiting Exoplanet Survey Satellite (TESS)</td><td>223.3588909</td><td>68.859472</td><td>290.646</td></tr>\n",
       "<tr><td>TOI-1416</td><td>Transiting Exoplanet Survey Satellite (TESS)</td><td>216.9234892</td><td>41.9529862</td><td>55.0135</td></tr>\n",
       "<tr><td>TOI-3976 A</td><td>Transiting Exoplanet Survey Satellite (TESS)</td><td>224.3560083</td><td>44.2743223</td><td>516.087</td></tr>\n",
       "<tr><td>TOI-2076</td><td>Transiting Exoplanet Survey Satellite (TESS)</td><td>217.3920159</td><td>39.7903991</td><td>41.9091</td></tr>\n",
       "<tr><td>...</td><td>...</td><td>...</td><td>...</td><td>...</td></tr>\n",
       "<tr><td>TOI-1136</td><td>Transiting Exoplanet Survey Satellite (TESS)</td><td>192.1848981</td><td>64.8552755</td><td>84.5362</td></tr>\n",
       "<tr><td>TOI-1136</td><td>Transiting Exoplanet Survey Satellite (TESS)</td><td>192.1848981</td><td>64.8552755</td><td>84.5362</td></tr>\n",
       "<tr><td>TOI-1136</td><td>Transiting Exoplanet Survey Satellite (TESS)</td><td>192.1848981</td><td>64.8552755</td><td>84.5362</td></tr>\n",
       "<tr><td>TOI-1136</td><td>Transiting Exoplanet Survey Satellite (TESS)</td><td>192.1848981</td><td>64.8552755</td><td>84.5362</td></tr>\n",
       "<tr><td>TOI-1136</td><td>Transiting Exoplanet Survey Satellite (TESS)</td><td>192.1848981</td><td>64.8552755</td><td>84.5362</td></tr>\n",
       "<tr><td>TOI-1136</td><td>Transiting Exoplanet Survey Satellite (TESS)</td><td>192.1848981</td><td>64.8552755</td><td>84.5362</td></tr>\n",
       "<tr><td>TOI-1272</td><td>Transiting Exoplanet Survey Satellite (TESS)</td><td>199.1962036</td><td>49.8610591</td><td>137.572</td></tr>\n",
       "<tr><td>TOI-1798</td><td>Transiting Exoplanet Survey Satellite (TESS)</td><td>211.0939367</td><td>46.5192825</td><td>113.181</td></tr>\n",
       "<tr><td>TOI-1807</td><td>Transiting Exoplanet Survey Satellite (TESS)</td><td>201.2826259</td><td>38.9223671</td><td>42.5775</td></tr>\n",
       "</table></div>"
      ],
      "text/plain": [
       "<QTable masked=True length=24>\n",
       " hostname                 disc_facility                 ...    dec     sy_dist\n",
       "                                                        ...    deg        pc  \n",
       "  str10                       str60                     ...  float64   float64\n",
       "---------- -------------------------------------------- ... ---------- -------\n",
       "  TOI-1411 Transiting Exoplanet Survey Satellite (TESS) ... 47.0555507 32.4778\n",
       "  TOI-2048 Transiting Exoplanet Survey Satellite (TESS) ... 52.3063083 116.567\n",
       "  TOI-1266 Transiting Exoplanet Survey Satellite (TESS) ... 65.8336973 36.0118\n",
       "  TOI-1266 Transiting Exoplanet Survey Satellite (TESS) ... 65.8336973 36.0118\n",
       "  TOI-1860 Transiting Exoplanet Survey Satellite (TESS) ... 64.0476821  45.864\n",
       "  TOI-5238 Transiting Exoplanet Survey Satellite (TESS) ...  68.859472 290.646\n",
       "  TOI-1416 Transiting Exoplanet Survey Satellite (TESS) ... 41.9529862 55.0135\n",
       "TOI-3976 A Transiting Exoplanet Survey Satellite (TESS) ... 44.2743223 516.087\n",
       "  TOI-2076 Transiting Exoplanet Survey Satellite (TESS) ... 39.7903991 41.9091\n",
       "       ...                                          ... ...        ...     ...\n",
       "  TOI-1136 Transiting Exoplanet Survey Satellite (TESS) ... 64.8552755 84.5362\n",
       "  TOI-1136 Transiting Exoplanet Survey Satellite (TESS) ... 64.8552755 84.5362\n",
       "  TOI-1136 Transiting Exoplanet Survey Satellite (TESS) ... 64.8552755 84.5362\n",
       "  TOI-1136 Transiting Exoplanet Survey Satellite (TESS) ... 64.8552755 84.5362\n",
       "  TOI-1136 Transiting Exoplanet Survey Satellite (TESS) ... 64.8552755 84.5362\n",
       "  TOI-1136 Transiting Exoplanet Survey Satellite (TESS) ... 64.8552755 84.5362\n",
       "  TOI-1272 Transiting Exoplanet Survey Satellite (TESS) ... 49.8610591 137.572\n",
       "  TOI-1798 Transiting Exoplanet Survey Satellite (TESS) ... 46.5192825 113.181\n",
       "  TOI-1807 Transiting Exoplanet Survey Satellite (TESS) ... 38.9223671 42.5775"
      ]
     },
     "execution_count": 18,
     "metadata": {},
     "output_type": "execute_result"
    }
   ],
   "source": [
    "potential_targets"
   ]
  }
 ],
 "metadata": {
  "kernelspec": {
   "display_name": "Python 3",
   "language": "python",
   "name": "python3"
  },
  "language_info": {
   "codemirror_mode": {
    "name": "ipython",
    "version": 3
   },
   "file_extension": ".py",
   "mimetype": "text/x-python",
   "name": "python",
   "nbconvert_exporter": "python",
   "pygments_lexer": "ipython3",
   "version": "3.12.4"
  }
 },
 "nbformat": 4,
 "nbformat_minor": 2
}
