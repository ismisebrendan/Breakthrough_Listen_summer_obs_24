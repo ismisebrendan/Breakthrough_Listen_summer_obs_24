{
 "cells": [
  {
   "cell_type": "code",
   "execution_count": 2,
   "metadata": {},
   "outputs": [],
   "source": [
    "from astropy.coordinates import EarthLocation\n",
    "from astropy.time import Time\n",
    "from astropy import units as u\n",
    "from astropy.table import Table\n",
    "import numpy as np"
   ]
  },
  {
   "cell_type": "code",
   "execution_count": 3,
   "metadata": {},
   "outputs": [],
   "source": [
    "# Birr\n",
    "birr_loc = EarthLocation(lat=53.095*u.deg, lon=-7.922*u.deg)\n",
    "observing_time_start_birr = Time('2024-06-25 07:00:00', scale='utc', location=birr_loc)\n",
    "observing_time_end_birr = Time('2024-06-26 14:00:00', scale='utc', location=birr_loc)\n",
    "LST_start_birr = observing_time_start_birr.sidereal_time('mean')\n",
    "LST_end_birr = observing_time_end_birr.sidereal_time('mean')\n",
    "\n",
    "# Onsala\n",
    "onsala_loc = EarthLocation(lat=57.399*u.deg, lon=11.930*u.deg)\n",
    "observing_time_start_onsala = Time('2024-06-25 07:00:00', scale='utc', location=onsala_loc)\n",
    "observing_time_end_onsala = Time('2024-06-26 14:00:00', scale='utc', location=onsala_loc)\n",
    "LST_start_onsala = observing_time_start_onsala.sidereal_time('mean')\n",
    "LST_end_onsala = observing_time_end_onsala.sidereal_time('mean')"
   ]
  },
  {
   "cell_type": "code",
   "execution_count": 4,
   "metadata": {},
   "outputs": [
    {
     "name": "stdout",
     "output_type": "stream",
     "text": [
      "Starting LST in Birr: 0h43m58.08020632s\n",
      "Ending LST in Birr: 7h49m03.63149321s\n",
      "\n",
      "\n",
      "Starting LST in Onsala: 2h03m22.56020631s\n",
      "Ending LST in Onsala: 9h08m28.1114932s\n"
     ]
    }
   ],
   "source": [
    "print('Starting LST in Birr:', LST_start_birr)\n",
    "print('Ending LST in Birr:', LST_end_birr)\n",
    "\n",
    "print('\\n')\n",
    "\n",
    "print('Starting LST in Onsala:', LST_start_onsala)\n",
    "print('Ending LST in Onsala:', LST_end_onsala)"
   ]
  },
  {
   "cell_type": "code",
   "execution_count": 5,
   "metadata": {},
   "outputs": [
    {
     "data": {
      "text/plain": [
       "astropy.coordinates.angles.Longitude"
      ]
     },
     "execution_count": 5,
     "metadata": {},
     "output_type": "execute_result"
    }
   ],
   "source": [
    "type(LST_start_birr)\n"
   ]
  },
  {
   "cell_type": "code",
   "execution_count": 6,
   "metadata": {},
   "outputs": [],
   "source": [
    "t = Table(names=('date', 'utc', 'lst_birr', 'lst_onsala', 'lst_mid'))\n",
    "\n",
    "times = np.array([])\n",
    "for i in range(7, 24):\n",
    "    a = Time('2024-06-25 '+str(i)+':00:00', scale='utc', location=birr_loc).sidereal_time('mean').value * 15\n",
    "    b = Time('2024-06-25 '+str(i)+':00:00', scale='utc', location=onsala_loc).sidereal_time('mean').value * 15\n",
    "    c = ((a+b)/2) #% 360\n",
    "    t.add_row((25, i, a, b, c))\n",
    "\n",
    "for i in range(0, 15):\n",
    "    a = Time('2024-06-26 '+str(i)+':00:00', scale='utc', location=birr_loc).sidereal_time('mean').value * 15\n",
    "    b = Time('2024-06-26 '+str(i)+':00:00', scale='utc', location=onsala_loc).sidereal_time('mean').value * 15\n",
    "    c = ((a+b)/2) #% 360\n",
    "    t.add_row((26, i, a, b, c))"
   ]
  },
  {
   "cell_type": "code",
   "execution_count": 7,
   "metadata": {},
   "outputs": [
    {
     "data": {
      "text/html": [
       "<div><i>Table length=32</i>\n",
       "<table id=\"table2313765225616\" class=\"table-striped table-bordered table-condensed\">\n",
       "<thead><tr><th>date</th><th>utc</th><th>lst_birr</th><th>lst_onsala</th><th>lst_mid</th></tr></thead>\n",
       "<thead><tr><th>float64</th><th>float64</th><th>float64</th><th>float64</th><th>float64</th></tr></thead>\n",
       "<tr><td>25.0</td><td>7.0</td><td>10.992000859660333</td><td>30.844000859608332</td><td>20.918000859634333</td></tr>\n",
       "<tr><td>25.0</td><td>8.0</td><td>26.033069605371246</td><td>45.885069605319245</td><td>35.95906960534525</td></tr>\n",
       "<tr><td>25.0</td><td>9.0</td><td>41.0741383510838</td><td>60.92613835103178</td><td>51.00013835105779</td></tr>\n",
       "<tr><td>25.0</td><td>10.0</td><td>56.11520709679636</td><td>75.96720709674433</td><td>66.04120709677035</td></tr>\n",
       "<tr><td>25.0</td><td>11.0</td><td>71.15627584251054</td><td>91.00827584245852</td><td>81.08227584248453</td></tr>\n",
       "<tr><td>25.0</td><td>12.0</td><td>86.19734458822147</td><td>106.04934458816943</td><td>96.12334458819545</td></tr>\n",
       "<tr><td>25.0</td><td>13.0</td><td>101.23841333393564</td><td>121.0904133338836</td><td>111.16441333390962</td></tr>\n",
       "<tr><td>25.0</td><td>14.0</td><td>116.27948207964818</td><td>136.13148207959614</td><td>126.20548207962216</td></tr>\n",
       "<tr><td>25.0</td><td>15.0</td><td>131.3205508253591</td><td>151.17255082530707</td><td>141.2465508253331</td></tr>\n",
       "<tr><td>25.0</td><td>16.0</td><td>146.3616195710733</td><td>166.21361957102127</td><td>156.2876195710473</td></tr>\n",
       "<tr><td>...</td><td>...</td><td>...</td><td>...</td><td>...</td></tr>\n",
       "<tr><td>26.0</td><td>5.0</td><td>341.89551299567734</td><td>1.7475129956251654</td><td>171.82151299565126</td></tr>\n",
       "<tr><td>26.0</td><td>6.0</td><td>356.9365816874607</td><td>16.788581687408538</td><td>186.8625816874346</td></tr>\n",
       "<tr><td>26.0</td><td>7.0</td><td>11.977650379240783</td><td>31.829650379188664</td><td>21.903650379214724</td></tr>\n",
       "<tr><td>26.0</td><td>8.0</td><td>27.018719071020925</td><td>46.8707190709688</td><td>36.944719070994864</td></tr>\n",
       "<tr><td>26.0</td><td>9.0</td><td>42.059787762801065</td><td>61.911787762748936</td><td>51.985787762775004</td></tr>\n",
       "<tr><td>26.0</td><td>10.0</td><td>57.100856454582825</td><td>76.95285645453069</td><td>67.02685645455676</td></tr>\n",
       "<tr><td>26.0</td><td>11.0</td><td>72.1419251463646</td><td>91.99392514631245</td><td>82.06792514633852</td></tr>\n",
       "<tr><td>26.0</td><td>12.0</td><td>87.18299383814474</td><td>107.0349938380926</td><td>97.10899383811866</td></tr>\n",
       "<tr><td>26.0</td><td>13.0</td><td>102.22406252992488</td><td>122.07606252987273</td><td>112.1500625298988</td></tr>\n",
       "<tr><td>26.0</td><td>14.0</td><td>117.26513122170502</td><td>137.11713122165287</td><td>127.19113122167894</td></tr>\n",
       "</table></div>"
      ],
      "text/plain": [
       "<Table length=32>\n",
       "  date    utc        lst_birr          lst_onsala          lst_mid      \n",
       "float64 float64      float64            float64            float64      \n",
       "------- ------- ------------------ ------------------ ------------------\n",
       "   25.0     7.0 10.992000859660333 30.844000859608332 20.918000859634333\n",
       "   25.0     8.0 26.033069605371246 45.885069605319245  35.95906960534525\n",
       "   25.0     9.0   41.0741383510838  60.92613835103178  51.00013835105779\n",
       "   25.0    10.0  56.11520709679636  75.96720709674433  66.04120709677035\n",
       "   25.0    11.0  71.15627584251054  91.00827584245852  81.08227584248453\n",
       "   25.0    12.0  86.19734458822147 106.04934458816943  96.12334458819545\n",
       "   25.0    13.0 101.23841333393564  121.0904133338836 111.16441333390962\n",
       "   25.0    14.0 116.27948207964818 136.13148207959614 126.20548207962216\n",
       "   25.0    15.0  131.3205508253591 151.17255082530707  141.2465508253331\n",
       "   25.0    16.0  146.3616195710733 166.21361957102127  156.2876195710473\n",
       "    ...     ...                ...                ...                ...\n",
       "   26.0     5.0 341.89551299567734 1.7475129956251654 171.82151299565126\n",
       "   26.0     6.0  356.9365816874607 16.788581687408538  186.8625816874346\n",
       "   26.0     7.0 11.977650379240783 31.829650379188664 21.903650379214724\n",
       "   26.0     8.0 27.018719071020925   46.8707190709688 36.944719070994864\n",
       "   26.0     9.0 42.059787762801065 61.911787762748936 51.985787762775004\n",
       "   26.0    10.0 57.100856454582825  76.95285645453069  67.02685645455676\n",
       "   26.0    11.0   72.1419251463646  91.99392514631245  82.06792514633852\n",
       "   26.0    12.0  87.18299383814474  107.0349938380926  97.10899383811866\n",
       "   26.0    13.0 102.22406252992488 122.07606252987273  112.1500625298988\n",
       "   26.0    14.0 117.26513122170502 137.11713122165287 127.19113122167894"
      ]
     },
     "execution_count": 7,
     "metadata": {},
     "output_type": "execute_result"
    }
   ],
   "source": [
    "t"
   ]
  },
  {
   "cell_type": "code",
   "execution_count": 82,
   "metadata": {},
   "outputs": [
    {
     "data": {
      "text/latex": [
       "$8^{\\mathrm{h}}32^{\\mathrm{m}}45.17457371^{\\mathrm{s}}$"
      ],
      "text/plain": [
       "<Longitude 8.54588183 hourangle>"
      ]
     },
     "execution_count": 82,
     "metadata": {},
     "output_type": "execute_result"
    }
   ],
   "source": [
    "Time(Time.now(), scale='utc', location=birr_loc).sidereal_time('mean')"
   ]
  }
 ],
 "metadata": {
  "kernelspec": {
   "display_name": "base",
   "language": "python",
   "name": "python3"
  },
  "language_info": {
   "codemirror_mode": {
    "name": "ipython",
    "version": 3
   },
   "file_extension": ".py",
   "mimetype": "text/x-python",
   "name": "python",
   "nbconvert_exporter": "python",
   "pygments_lexer": "ipython3",
   "version": "3.11.7"
  }
 },
 "nbformat": 4,
 "nbformat_minor": 2
}
