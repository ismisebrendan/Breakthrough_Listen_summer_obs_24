{
 "cells": [
  {
   "cell_type": "code",
   "execution_count": 42,
   "metadata": {},
   "outputs": [
    {
     "name": "stdout",
     "output_type": "stream",
     "text": [
      "The autoreload extension is already loaded. To reload it, use:\n",
      "  %reload_ext autoreload\n"
     ]
    }
   ],
   "source": [
    "# Import libraries\n",
    "\n",
    "from astropy.io import ascii\n",
    "import astropy.coordinates as coord\n",
    "import astropy.units as u\n",
    "import numpy as np\n",
    "import matplotlib.pyplot as plt\n",
    "from astropy.coordinates import EarthLocation, Angle, SkyCoord\n",
    "from astropy.time import Time\n",
    "from astropy.table import Table, unique\n",
    "from funcs import *\n",
    "from astroquery.ipac.nexsci.nasa_exoplanet_archive import NasaExoplanetArchive\n",
    "\n",
    "\n",
    "%load_ext autoreload\n",
    "%autoreload 2"
   ]
  },
  {
   "cell_type": "code",
   "execution_count": 43,
   "metadata": {},
   "outputs": [
    {
     "name": "stdout",
     "output_type": "stream",
     "text": [
      "Starting LST at midpoint: 14h53m24.34393019s\n",
      "The local siderial time at Birr at UTC: 2024-07-02 20:00 is: 14h13m42.10393019s\n",
      "The local siderial time at Onsala at UTC: 2024-07-02 20:00 is: 15h33m06.58393018s\n",
      "\n",
      "\n",
      "Ending LST at midpoint: 22h53m43.03172736s\n",
      "The local siderial time at Birr at UTC: 2024-07-03 03:59 is: 22h14m00.79172737s\n",
      "The local siderial time at Onsala at UTC: 2024-07-03 03:59 is: 23h33m25.27172735s\n"
     ]
    }
   ],
   "source": [
    "# Set up times and locations\n",
    "\n",
    "valid_dates = False\n",
    "valid_times = False\n",
    "\n",
    "# Check that dates and times are in the right order\n",
    "while valid_dates == False:\n",
    "    start_date = check_date('Please enter starting date of observation (YYYY-MM-DD): ')\n",
    "    end_date = check_date('Please enter ending date of observation (YYYY-MM-DD): ')\n",
    "\n",
    "    if (int(start_date[0:4]) > int(end_date[0:4])) or (int(start_date[0:4]) == int(end_date[0:4]) and int(start_date[5:7]) > int(end_date[5:7])) or (start_date[0:4] == end_date[0:4] and start_date[5:7] == end_date[5:7] and int(start_date[8:10]) > int(end_date[8:10])):\n",
    "        print('End date must be the same or later than the start date')\n",
    "    else:\n",
    "        valid_dates = True\n",
    "\n",
    "while valid_times == False:\n",
    "    start_time = check_time('Please enter starting time of observation (HH:MM): ')\n",
    "    end_time = check_time('Please enter ending time of observation (HH:MM): ')\n",
    "\n",
    "    if start_date == end_date:\n",
    "        if (start_time == end_time) or (int(start_time[0:2]) > int(end_time[0:2])) or (int(start_time[0:2]) == int(end_time[0:2]) and int(start_time[3:5]) > int(end_time[3:5])):\n",
    "            print('End time must be later than the start time')\n",
    "        else:\n",
    "            valid_times = True\n",
    "    else:\n",
    "        valid_times = True\n",
    "\n",
    "\n",
    "starting = start_date + ' ' + start_time\n",
    "ending = end_date + ' ' + end_time\n",
    "\n",
    "starting_time = Time(starting, scale='utc')\n",
    "ending_time = Time(ending, scale='utc')\n",
    "\n",
    "# Birr\n",
    "birr_loc = EarthLocation(lat=53.095*u.deg, lon=-7.922*u.deg)\n",
    "\n",
    "# Onsala\n",
    "onsala_loc = EarthLocation(lat=57.399*u.deg, lon=11.930*u.deg)\n",
    "\n",
    "\n",
    "# Midpoint\n",
    "mid_lon = (birr_loc.lon + onsala_loc.lon) / 2\n",
    "mid_lat = (birr_loc.lat + onsala_loc.lat) / 2\n",
    "mid_loc = EarthLocation(lat=mid_lat, lon=mid_lon)\n",
    "LST_start_mid = get_lst(mid_loc, starting)\n",
    "LST_end_mid = get_lst(mid_loc, ending)\n",
    "\n",
    "print('Starting LST at midpoint:', LST_start_mid)\n",
    "get_lst(birr_loc, starting, 'Birr')\n",
    "get_lst(onsala_loc, starting, 'Onsala')\n",
    "\n",
    "print('\\n')\n",
    "\n",
    "print('Ending LST at midpoint:', LST_end_mid)\n",
    "get_lst(birr_loc, ending, 'Birr')\n",
    "get_lst(onsala_loc, ending, 'Onsala')"
   ]
  },
  {
   "cell_type": "code",
   "execution_count": 44,
   "metadata": {},
   "outputs": [],
   "source": [
    "# Import data and clean it up\n",
    "\n",
    "# Check what objects are to be observed\n",
    "want_exo = want('exoplanets')\n",
    "want_psr = want('pulsars independently')\n",
    "\n",
    "# Pulsar data\n",
    "# Need to at least observe a pulsar once for calibration purposes\n",
    "pulsars = check_file('Path to CSV file containing pulsar names, coordinates and luminosities in ATNF format: ', ['NAME', 'RAJ', 'DECJ', 'R_LUM'])\n",
    "\n",
    "# Remove rows without luminosities\n",
    "ind = pulsars['R_LUM'] != '*'\n",
    "pulsars = pulsars[ind]\n",
    "\n",
    "# Convert luminosities to floats\n",
    "luminosities = np.array([])\n",
    "\n",
    "for i in range(len(pulsars['R_LUM'])):\n",
    "    base, exp = pulsars['R_LUM'][i].split('E')\n",
    "    lum = float(base) * 10**float(exp)\n",
    "    luminosities = np.append(luminosities, lum)\n",
    "\n",
    "pulsars['R_LUM'] = luminosities\n",
    "\n",
    "# The coordinates of the pulsars\n",
    "psr_ra = np.array(pulsars['RAJ'])\n",
    "psr_dec = np.array(pulsars['DECJ'])\n",
    "\n",
    "psr_coords = SkyCoord(ra=psr_ra, dec=psr_dec, unit=(u.hourangle, u.deg))"
   ]
  },
  {
   "cell_type": "code",
   "execution_count": 45,
   "metadata": {},
   "outputs": [],
   "source": [
    "# Pointing times\n",
    "\n",
    "pointing_time_psr_cal = check_time('Time to spend observing a calibration pulsar (HH:MM): ')\n",
    "pointing_time_psr_cal = (int(pointing_time_psr_cal[0:2])*u.hr + int(pointing_time_psr_cal[3:5])*u.min + 1*u.min).to(u.hr).value\n",
    "\n",
    "if want_exo == True:\n",
    "    # How long we'll point at a planet\n",
    "    pointing_time_planet = check_time('Time to spend observing a planet (HH:MM): ')\n",
    "    pointing_time_planet = (int(pointing_time_planet[0:2])*u.hr + int(pointing_time_planet[3:5])*u.min + 1*u.min).to(u.hr).value\n",
    "\n",
    "    planets = Table(names=['hostname', 'ra', 'dec', 'sy_dist'], dtype=[str, float, float, float])\n",
    "\n",
    "if want_psr == True:\n",
    "    # How long we'll point at a planet\n",
    "    pointing_time_psr = check_time('Time to spend observing a pulsar (HH:MM): ')\n",
    "    pointing_time_psr = (int(pointing_time_psr[0:2])*u.hr + int(pointing_time_psr[3:5])*u.min + 1*u.min).to(u.hr).value\n",
    "\n",
    "# Copy of pulsars that we can delete stuff from\n",
    "pulsars_copy = Table(pulsars, copy=True)\n",
    "\n",
    "psr_coords_copy = SkyCoord(ra=np.array(pulsars_copy['RAJ']), dec=np.array(pulsars_copy['DECJ']), unit=(u.hourangle, u.deg))\n",
    "\n",
    "# List of targets to ignore (perhaps because they had been observed previously)\n",
    "try:\n",
    "    ignore = ascii.read('observed.csv')\n",
    "    ignore.remove_column('date')\n",
    "except:\n",
    "    ignore = Table()"
   ]
  },
  {
   "cell_type": "code",
   "execution_count": 46,
   "metadata": {},
   "outputs": [
    {
     "name": "stderr",
     "output_type": "stream",
     "text": [
      "c:\\Users\\tcd\\AppData\\Local\\Programs\\Python\\Python312\\Lib\\site-packages\\astropy\\table\\table.py:3217: UserWarning: Units from inserted quantities will be ignored.\n",
      "  self.insert_row(len(self), vals, mask)\n"
     ]
    },
    {
     "name": "stdout",
     "output_type": "stream",
     "text": [
      "['B1508+55', 'TOI-2048', 'TOI-4633', 'WD 1856+534', 'HD 235088', 'TOI-1431', 'TOI-1386']\n"
     ]
    }
   ],
   "source": [
    "# Optimise for closest to zenith at the middle of the observation window\n",
    "\n",
    "time_LST = LST_start_mid.value\n",
    "time_offset = 0\n",
    "target_list = []\n",
    "target_type = []\n",
    "\n",
    "# How long from the start we will observe for\n",
    "obs_time = (ending_time.mjd - starting_time.mjd) * 24 # hours\n",
    "\n",
    "################################\n",
    "# Calibration pulsar initially #\n",
    "################################\n",
    "mid_lst = (time_LST + pointing_time_psr_cal/2) * 15\n",
    "zenith = SkyCoord(ra=mid_lst, dec=mid_lat, unit='deg')\n",
    "\n",
    "sep = zenith.separation(psr_coords_copy)\n",
    "ind = np.argmin(sep)\n",
    "target_list.append(pulsars_copy['NAME'][ind])\n",
    "\n",
    "# Delete that index from the coordinates array and the copy table to prevent repeats\n",
    "psr_coords_copy = np.delete(psr_coords_copy, ind)\n",
    "pulsars_copy.remove_row(ind)\n",
    "\n",
    "target_type.append('pulsar')\n",
    "\n",
    "time_offset += pointing_time_psr_cal\n",
    "time_LST += pointing_time_psr_cal\n",
    "\n",
    "#########################\n",
    "# Go for obs_time hours #\n",
    "#########################\n",
    "while time_offset <= obs_time:\n",
    "    # Find the RA that is directly overhead in the middle of the observation window\n",
    "    # Find target that is closest to the zenith at the middle of the observation window\n",
    "\n",
    "    # Exoplanets\n",
    "    if want_exo == True:\n",
    "        \n",
    "        # Query for list of planets to target near the zenith\n",
    "        potential_targets = NasaExoplanetArchive.query_region(table='pscomppars', coordinates=SkyCoord(ra=time_LST*u.hourangle, dec=mid_lat), radius=20*u.deg)\n",
    "        potential_targets.keep_columns(('hostname', 'disc_facility', 'ra', 'dec', 'sy_dist'))\n",
    "\n",
    "        # Only keep TESS targets\n",
    "        ind = potential_targets['disc_facility'] == 'Transiting Exoplanet Survey Satellite (TESS)'\n",
    "        potential_targets = potential_targets[ind]\n",
    "\n",
    "        # Delete the specified targets to be ignored\n",
    "        for i in range(len(ignore)):\n",
    "            ind = potential_targets['hostname'] != ignore['name'][i]\n",
    "            potential_targets = potential_targets[ind]\n",
    "\n",
    "        # The coordinates of the planets\n",
    "        planets_ra = np.array(potential_targets['ra'])\n",
    "        planets_dec = np.array(potential_targets['dec'])\n",
    "\n",
    "        planets_coords = SkyCoord(ra=planets_ra, dec=planets_dec, unit='deg')\n",
    "\n",
    "        mid_lst_planet = (time_LST + pointing_time_planet/2) * 15\n",
    "        zenith_planet = SkyCoord(ra=mid_lst_planet, dec=mid_lat, unit='deg')\n",
    "        sep_exo = zenith_planet.separation(planets_coords)\n",
    "        ind_exo = np.argmin(sep_exo)\n",
    "        sep_exo = sep_exo[ind_exo]\n",
    "    else:\n",
    "        sep_exo = np.inf\n",
    "\n",
    "    # Pulsars\n",
    "    if want_psr == True:\n",
    "        mid_lst_psr = (time_LST + pointing_time_psr/2) * 15\n",
    "        zenith_psr = SkyCoord(ra=mid_lst_psr, dec=mid_lat, unit='deg')\n",
    "        sep_psr = zenith_psr.separation(psr_coords_copy)\n",
    "        ind_psr = np.argmin(sep_psr)\n",
    "        sep_psr = sep_psr[ind_psr]\n",
    "    else:\n",
    "        sep_psr = np.inf\n",
    "\n",
    "    # See which is closest to zenith\n",
    "    if sep_exo < sep_psr:\n",
    "        target_list.append(potential_targets['hostname'][ind_exo])\n",
    "        target_type.append('planet')\n",
    "\n",
    "        planets.add_row((potential_targets['hostname'][ind_exo], potential_targets['ra'][ind_exo], potential_targets['dec'][ind_exo], potential_targets['sy_dist'][ind_exo]))\n",
    "        \n",
    "        # Move on\n",
    "        time_offset += pointing_time_planet\n",
    "        time_LST += pointing_time_planet\n",
    "    else:\n",
    "        target_list.append(pulsars_copy['NAME'][ind_psr])\n",
    "\n",
    "        # Delete that index from the coordinates array and the copy table to prevent repeats\n",
    "        psr_coords_copy = np.delete(psr_coords_copy, ind_psr)\n",
    "        pulsars_copy.remove_row(ind_psr)\n",
    "\n",
    "        target_type.append('pulsar')\n",
    "        \n",
    "        # Move on\n",
    "        time_offset += pointing_time_psr\n",
    "        time_LST += pointing_time_psr\n",
    "\n",
    "# Output target list\n",
    "print(target_list)"
   ]
  },
  {
   "cell_type": "code",
   "execution_count": 47,
   "metadata": {},
   "outputs": [
    {
     "data": {
      "text/html": [
       "<div><i>Table length=6</i>\n",
       "<table id=\"table1946499447120\" class=\"table-striped table-bordered table-condensed\">\n",
       "<thead><tr><th>hostname</th><th>ra</th><th>dec</th><th>sy_dist</th></tr></thead>\n",
       "<thead><tr><th>str11</th><th>float64</th><th>float64</th><th>float64</th></tr></thead>\n",
       "<tr><td>TOI-2048</td><td>237.9241066</td><td>52.3063083</td><td>116.567</td></tr>\n",
       "<tr><td>TOI-4633</td><td>256.8431021</td><td>62.475548</td><td>95.2016</td></tr>\n",
       "<tr><td>WD 1856+534</td><td>284.415675</td><td>53.5090244</td><td>24.7359</td></tr>\n",
       "<tr><td>HD 235088</td><td>300.6154535</td><td>53.3774418</td><td>41.1706</td></tr>\n",
       "<tr><td>TOI-1431</td><td>316.2036922</td><td>55.5880221</td><td>148.925</td></tr>\n",
       "<tr><td>TOI-1386</td><td>334.5041029</td><td>54.3190454</td><td>146.858</td></tr>\n",
       "</table></div>"
      ],
      "text/plain": [
       "<Table length=6>\n",
       "  hostname       ra        dec     sy_dist\n",
       "   str11      float64    float64   float64\n",
       "----------- ----------- ---------- -------\n",
       "   TOI-2048 237.9241066 52.3063083 116.567\n",
       "   TOI-4633 256.8431021  62.475548 95.2016\n",
       "WD 1856+534  284.415675 53.5090244 24.7359\n",
       "  HD 235088 300.6154535 53.3774418 41.1706\n",
       "   TOI-1431 316.2036922 55.5880221 148.925\n",
       "   TOI-1386 334.5041029 54.3190454 146.858"
      ]
     },
     "execution_count": 47,
     "metadata": {},
     "output_type": "execute_result"
    }
   ],
   "source": [
    "planets"
   ]
  },
  {
   "cell_type": "code",
   "execution_count": 48,
   "metadata": {},
   "outputs": [
    {
     "data": {
      "text/plain": [
       "Text(0.5, 1.0, 'Optimum observation windows with distance against RA of the exoplanets plotted')"
      ]
     },
     "execution_count": 48,
     "metadata": {},
     "output_type": "execute_result"
    },
    {
     "data": {
      "image/png": "[encoded data removed]",
      "text/plain": [
       "<Figure size 800x600 with 1 Axes>"
      ]
     },
     "metadata": {},
     "output_type": "display_data"
    }
   ],
   "source": [
    "# Plot the optimum viewing windows for the targets\n",
    "fig, ax = plt.subplots(figsize=(8,6))\n",
    "\n",
    "# Targeted planets in a different colour\n",
    "for i in range(len(planets)):\n",
    "    # Plot from optimum start time of observation\n",
    "    ax.broken_barh([(planets['ra'][i] - (pointing_time_planet - 1/60) * 7.5, (pointing_time_planet - 1/60) * 15)], (planets['sy_dist'][i], 10), color='red')\n",
    "    #ax.text(planets['ra'][ind]+0.5 - 10, planets['sy_dist'][ind], planets['hostname'][ind])\n",
    "\n",
    "# All pulsars\n",
    "for i in range(len(pulsars['NAME'])):\n",
    "    # Plot from optimum start time of observation\n",
    "    try:\n",
    "        ax.broken_barh([(Angle(psr_ra[i], u.hourangle).value * 15 - (pointing_time_psr - 1/60) * 7.5, (pointing_time_psr_cal - 1/60) * 15)], (pulsars['R_LUM'][i]/5, 10), color='green')\n",
    "    except:\n",
    "        ax.broken_barh([(Angle(psr_ra[i], u.hourangle).value * 15 - (pointing_time_psr_cal - 1/60) * 7.5, (pointing_time_psr_cal - 1/60) * 15)], (pulsars['R_LUM'][i]/5, 10), color='green')\n",
    "\n",
    "# Calibration pulsar in a different colour\n",
    "index = pulsars['NAME'] == target_list[0]\n",
    "ind = np.argwhere(index)[0][0]\n",
    "\n",
    "# Plot from optimum start time of observation\n",
    "ax.broken_barh([(Angle(psr_ra[ind], u.hourangle).value * 15 - (pointing_time_psr_cal - 1/60) * 7.5, (pointing_time_psr_cal - 1/60) * 15)], (pulsars['R_LUM'][ind]/5, 10), color='purple')\n",
    "        \n",
    "\n",
    "ax.set_xticks(np.arange(0, 361, 30))\n",
    "ax.set_xticklabels(np.arange(0, 25, 2))\n",
    "ax.grid(True)\n",
    "ax.set_xlabel('RA [hours]')\n",
    "ax.set_ylabel('Distance [pc]')\n",
    "ax.set_title('Optimum observation windows with distance against RA of the exoplanets plotted')\n"
   ]
  },
  {
   "cell_type": "code",
   "execution_count": 49,
   "metadata": {},
   "outputs": [
    {
     "data": {
      "text/html": [
       "<div><i>Table length=6</i>\n",
       "<table id=\"table1946499447120\" class=\"table-striped table-bordered table-condensed\">\n",
       "<thead><tr><th>hostname</th><th>ra</th><th>dec</th><th>sy_dist</th></tr></thead>\n",
       "<thead><tr><th>str11</th><th>float64</th><th>float64</th><th>float64</th></tr></thead>\n",
       "<tr><td>TOI-2048</td><td>237.9241066</td><td>52.3063083</td><td>116.567</td></tr>\n",
       "<tr><td>TOI-4633</td><td>256.8431021</td><td>62.475548</td><td>95.2016</td></tr>\n",
       "<tr><td>WD 1856+534</td><td>284.415675</td><td>53.5090244</td><td>24.7359</td></tr>\n",
       "<tr><td>HD 235088</td><td>300.6154535</td><td>53.3774418</td><td>41.1706</td></tr>\n",
       "<tr><td>TOI-1431</td><td>316.2036922</td><td>55.5880221</td><td>148.925</td></tr>\n",
       "<tr><td>TOI-1386</td><td>334.5041029</td><td>54.3190454</td><td>146.858</td></tr>\n",
       "</table></div>"
      ],
      "text/plain": [
       "<Table length=6>\n",
       "  hostname       ra        dec     sy_dist\n",
       "   str11      float64    float64   float64\n",
       "----------- ----------- ---------- -------\n",
       "   TOI-2048 237.9241066 52.3063083 116.567\n",
       "   TOI-4633 256.8431021  62.475548 95.2016\n",
       "WD 1856+534  284.415675 53.5090244 24.7359\n",
       "  HD 235088 300.6154535 53.3774418 41.1706\n",
       "   TOI-1431 316.2036922 55.5880221 148.925\n",
       "   TOI-1386 334.5041029 54.3190454 146.858"
      ]
     },
     "execution_count": 49,
     "metadata": {},
     "output_type": "execute_result"
    }
   ],
   "source": [
    "planets"
   ]
  },
  {
   "cell_type": "code",
   "execution_count": 50,
   "metadata": {},
   "outputs": [
    {
     "data": {
      "text/plain": [
       "Text(0.5, 1.0, 'Scheduled time, LST against Distance of stars, blue dots - when the star reaches its zenith')"
      ]
     },
     "execution_count": 50,
     "metadata": {},
     "output_type": "execute_result"
    },
    {
     "data": {
      "image/png": "[encoded data removed]",
      "text/plain": [
       "<Figure size 800x600 with 1 Axes>"
      ]
     },
     "metadata": {},
     "output_type": "display_data"
    }
   ],
   "source": [
    "# Plot Actual viewing times\n",
    "fig, ax = plt.subplots(figsize=(8,6))\n",
    "ax.grid(True)\n",
    "\n",
    "current_LST = LST_start_mid.value * 360/24\n",
    "\n",
    "# Calibration pulsar in a different colour\n",
    "index = pulsars['NAME'] == target_list[0]\n",
    "ind = np.argwhere(index)[0][0]\n",
    "\n",
    "ax.broken_barh([(current_LST, pointing_time_psr_cal * 15)], (0, 10), color='purple')\n",
    "ax.text(current_LST, 5, pulsars['NAME'][ind])\n",
    "\n",
    "current_LST += pointing_time_psr_cal * 15\n",
    "\n",
    "for i in range(len(planets)):\n",
    "    # Plot at [len of planet observation * no planets already observed in hours + the initial offset as not starting from 0 + offset from ]\n",
    "    ax.broken_barh([((current_LST) % 360, (pointing_time_planet * 15))], ((i+1)*10, 10), color='red')\n",
    "    ax.text((current_LST) % 360, (i+1)*10+5, planets['hostname'][i])\n",
    "    ax.plot(planets['ra'][i], (i+1)*10, 'bo')\n",
    "\n",
    "    current_LST += pointing_time_planet * 15\n",
    "    current_LST %= 360\n",
    "\n",
    "ax.set_xticks(np.arange(0, 361, 30))\n",
    "ax.set_xticklabels(np.arange(0, 25, 2))\n",
    "ax.set_xlabel('LST [hours]')\n",
    "ax.set_ylabel('Distance [pc]')\n",
    "ax.set_title('Scheduled time, LST against Distance of stars, blue dots - when the star reaches its zenith')\n",
    "\n"
   ]
  },
  {
   "cell_type": "code",
   "execution_count": 51,
   "metadata": {},
   "outputs": [
    {
     "data": {
      "text/html": [
       "<div><i>Table length=6</i>\n",
       "<table id=\"table1946499447120\" class=\"table-striped table-bordered table-condensed\">\n",
       "<thead><tr><th>hostname</th><th>ra</th><th>dec</th><th>sy_dist</th></tr></thead>\n",
       "<thead><tr><th>str11</th><th>float64</th><th>float64</th><th>float64</th></tr></thead>\n",
       "<tr><td>TOI-2048</td><td>237.9241066</td><td>52.3063083</td><td>116.567</td></tr>\n",
       "<tr><td>TOI-4633</td><td>256.8431021</td><td>62.475548</td><td>95.2016</td></tr>\n",
       "<tr><td>WD 1856+534</td><td>284.415675</td><td>53.5090244</td><td>24.7359</td></tr>\n",
       "<tr><td>HD 235088</td><td>300.6154535</td><td>53.3774418</td><td>41.1706</td></tr>\n",
       "<tr><td>TOI-1431</td><td>316.2036922</td><td>55.5880221</td><td>148.925</td></tr>\n",
       "<tr><td>TOI-1386</td><td>334.5041029</td><td>54.3190454</td><td>146.858</td></tr>\n",
       "</table></div>"
      ],
      "text/plain": [
       "<Table length=6>\n",
       "  hostname       ra        dec     sy_dist\n",
       "   str11      float64    float64   float64\n",
       "----------- ----------- ---------- -------\n",
       "   TOI-2048 237.9241066 52.3063083 116.567\n",
       "   TOI-4633 256.8431021  62.475548 95.2016\n",
       "WD 1856+534  284.415675 53.5090244 24.7359\n",
       "  HD 235088 300.6154535 53.3774418 41.1706\n",
       "   TOI-1431 316.2036922 55.5880221 148.925\n",
       "   TOI-1386 334.5041029 54.3190454 146.858"
      ]
     },
     "execution_count": 51,
     "metadata": {},
     "output_type": "execute_result"
    }
   ],
   "source": [
    "planets"
   ]
  },
  {
   "cell_type": "code",
   "execution_count": 52,
   "metadata": {},
   "outputs": [],
   "source": [
    "# Output schedule with pointings and timings in iLiSA format\n",
    "\n",
    "sched_iLiSA = Table(names=('Name', 'Time', 'RA', 'DEC'), dtype=(str, str, float, float))\n",
    "\n",
    "time = starting_time.mjd\n",
    "\n",
    "index = pulsars['NAME'] == target_list[0]\n",
    "ind = np.argwhere(index)[0][0]\n",
    "\n",
    "sched_iLiSA.add_row((pulsars['NAME'][0], Time(time, format='mjd').iso[11:16], psr_coords[ind].ra.value*u.deg.to(u.rad), psr_coords[ind].dec.value*u.deg.to(u.rad)))\n",
    "\n",
    "time += pointing_time_psr_cal/24\n",
    "\n",
    "for i in range(1, len(target_list)):\n",
    "    index = planets['hostname'] == target_list[i]\n",
    "    ind = np.argwhere(index)[0][0]\n",
    "\n",
    "    sched_iLiSA.add_row((planets['hostname'][ind], Time(time, format='mjd').iso[11:16], planets['ra'][ind]*u.deg.to(u.rad), planets['dec'][ind]*u.deg.to(u.rad)))\n",
    "\n",
    "    # Wait the 1 hr 21 minutes\n",
    "    time += pointing_time_planet/24     \n",
    "\n",
    "# Take same frequency range for all observations\n",
    "\n",
    "have_freq_range = False\n",
    "\n",
    "while have_freq_range == False:\n",
    "\n",
    "    try:\n",
    "        min_freq = float(input('Please give the minimum frequency you\\'d like to observe at (in MHz): '))\n",
    "        max_freq = float(input('Please give the maximum frequency you\\'d like to observe at (in MHz): '))\n",
    "        have_freq_range = True\n",
    "    except:\n",
    "        print('Please enter a valid frequency')\n",
    "\n",
    "freq_range = str(min_freq) + 'e6:' + str(max_freq) + 'e6'\n",
    "\n",
    "sched_iLiSA['freqrng'] = freq_range\n",
    "\n",
    "# Get the duration\n",
    "\n",
    "dur = str(int(np.round((pointing_time_planet - 1/60) * 60))) + 'm'\n",
    "\n",
    "sched_iLiSA['dur'] = dur"
   ]
  },
  {
   "cell_type": "code",
   "execution_count": 53,
   "metadata": {},
   "outputs": [],
   "source": [
    "# Output schedule with pointings and timings in I-LOFAR format\n",
    "\n",
    "sched_realta = Table(names=('start', '-', 'stop', ':', 'name', 'coords'), dtype=(str, str, str, str, str, str))\n",
    "\n",
    "time = starting_time.mjd\n",
    "\n",
    "end_time = time + (pointing_time_psr_cal - 1/60)/24\n",
    "\n",
    "index = pulsars['NAME'] == target_list[0]\n",
    "ind = np.argwhere(index)[0][0]\n",
    "\n",
    "sched_realta.add_row((Time(time, format='mjd').iso, '-', Time(end_time, format='mjd').iso, ':', pulsars['NAME'][ind], f'[{psr_coords[ind].ra.value*u.deg.to(u.rad)}, {psr_coords[ind].dec.value*u.deg.to(u.rad)}, \\'J2000\\']'))\n",
    "\n",
    "time += pointing_time_psr_cal/24\n",
    "\n",
    "for i in range(1, len(target_list)):\n",
    "    index = planets['hostname'] == target_list[i]\n",
    "    ind = np.argwhere(index)[0][0]\n",
    "\n",
    "    end_time = time + (pointing_time_planet - 1/60)/24\n",
    "    # Make sure the end tiem doesn't overshoot\n",
    "    if end_time > ending_time.mjd:\n",
    "        end_time = ending_time.mjd\n",
    "\n",
    "    sched_realta.add_row((Time(time, format='mjd').iso, '-', Time(end_time, format='mjd').iso, ':', planets['hostname'][ind], f'[{planets['ra'][ind]*u.deg.to(u.rad)}, {planets['dec'][ind]*u.deg.to(u.rad)}, \\'J2000\\']'))\n",
    "\n",
    "    # Wait the 1 hr 21 minutes\n",
    "    time += pointing_time_planet/24     \n"
   ]
  },
  {
   "cell_type": "code",
   "execution_count": 54,
   "metadata": {},
   "outputs": [],
   "source": [
    "# Output files\n",
    "\n",
    "ascii.write(sched_iLiSA, 'sched_iLiSA_temp.txt', overwrite=True)\n",
    "ascii.write(sched_realta, 'sched_realta_temp.txt', overwrite=True)\n",
    "\n",
    "# Need to remove the quotation marks\n",
    "iLiSA = open('sched_iLiSA_temp.txt', 'r')\n",
    "iLiSA_out = open('sched_iLiSA_out.txt', 'w')\n",
    "\n",
    "rmv_quotes = iLiSA.read()\n",
    "rmv_quotes = rmv_quotes.replace('\"', '')\n",
    "\n",
    "iLiSA_out.write(rmv_quotes)\n",
    "\n",
    "realta = open('sched_realta_temp.txt', 'r')\n",
    "realta_out = open('sched_realta_out.txt', 'w')\n",
    "\n",
    "rmv_quotes = realta.read()\n",
    "rmv_quotes = rmv_quotes.replace('\"', '')\n",
    "\n",
    "realta_out.write(rmv_quotes)\n",
    "\n",
    "# Close the files\n",
    "iLiSA.close()\n",
    "iLiSA_out.close()\n",
    "\n",
    "realta.close()\n",
    "realta_out.close()"
   ]
  }
 ],
 "metadata": {
  "kernelspec": {
   "display_name": "Python 3",
   "language": "python",
   "name": "python3"
  },
  "language_info": {
   "codemirror_mode": {
    "name": "ipython",
    "version": 3
   },
   "file_extension": ".py",
   "mimetype": "text/x-python",
   "name": "python",
   "nbconvert_exporter": "python",
   "pygments_lexer": "ipython3",
   "version": "3.12.4"
  }
 },
 "nbformat": 4,
 "nbformat_minor": 2
}
